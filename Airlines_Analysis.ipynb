{
 "cells": [
  {
   "cell_type": "markdown",
   "id": "6513bc9e-b4e1-42ec-be92-dfe79e3bf0e7",
   "metadata": {},
   "source": [
    "# Airline Data Analysis: SQL vs. Pandas\n",
    "\n",
    "This notebook demonstrates advanced data analysis skills using both SQL and pandas on airline datasets. It showcases my ability to:\n",
    "- Write complex SQL queries for data extraction and aggregation\n",
    "- Translate SQL logic into efficient pandas code\n",
    "- Validate results across different technologies\n",
    "- Communicate analytical processes and insights clearly"
   ]
  },
  {
   "cell_type": "markdown",
   "id": "62f4b311",
   "metadata": {},
   "source": [
    "# Data Loading and Setup\n",
    "\n",
    "Load the datasets into pandas DataFrames and a temporary SQLite database for dual analysis"
   ]
  },
  {
   "cell_type": "code",
   "execution_count": null,
   "id": "260cd2c4-95f3-4009-8db8-de374395f959",
   "metadata": {},
   "outputs": [],
   "source": [
    "import pandas as pd\n",
    "import sqlite3\n",
    "import os\n",
    "import numpy as np\n",
    "import tempfile, os.path\n",
    "import matplotlib.pyplot as plt"
   ]
  },
  {
   "cell_type": "code",
   "execution_count": null,
   "id": "b57f35ac-f19f-4856-8804-bc84dad41c76",
   "metadata": {},
   "outputs": [
    {
     "name": "stdout",
     "output_type": "stream",
     "text": [
      "/tmp/tmpdclaximz/flight_data\n"
     ]
    }
   ],
   "source": [
    "dbfile = os.path.join(tempfile.mkdtemp(), \"flight_data\")\n",
    "print(dbfile)\n",
    "conn = sqlite3.connect(dbfile)"
   ]
  },
  {
   "cell_type": "code",
   "execution_count": null,
   "id": "7707c5a9-925f-4968-9f2d-d5eaf8844306",
   "metadata": {},
   "outputs": [],
   "source": [
    "# Load CSV \n",
    "airlines = pd.read_csv(\"airlines.csv\")\n",
    "airports = pd.read_csv(\"airports.csv\")\n",
    "flights = pd.read_csv(\"flights.csv\")\n",
    "planes = pd.read_csv(\"planes.csv\")\n",
    "weather = pd.read_csv(\"weather.csv\")\n",
    "\n",
    "# LOad SQLite \n",
    "airlines.to_sql(\"airlines\", conn, index=False)\n",
    "airports.to_sql(\"airports\", conn, index=False)\n",
    "flights.to_sql(\"flights\", conn, index=False)\n",
    "planes.to_sql(\"planes\", conn, index=False)\n",
    "weather.to_sql(\"weather\", conn, index=False)"
   ]
  },
  {
   "cell_type": "markdown",
   "id": "bd82bbb7-d17a-49b0-aa47-2b0b268ebaee",
   "metadata": {},
   "source": [
    "# Unique Engine Types\n",
    "\n",
    "Description: Extract all unique engine types present in the fleet from the planes dataset.\n",
    "\n",
    "Business Question: What different engine types are represented in our aircraft fleet?"
   ]
  },
  {
   "cell_type": "code",
   "execution_count": null,
   "id": "5b49e373-9468-40f9-ad99-cc28e0cecb57",
   "metadata": {},
   "outputs": [],
   "source": [
    "Engine = pd.read_sql_query(\"\"\"\n",
    "    SELECT DISTINCT engine \n",
    "    FROM planes\n",
    "\"\"\", conn)\n",
    "Engine_pd = (\n",
    "    pd.DataFrame(planes.engine.unique(), columns=['engine']))\n",
    "pd.testing.assert_frame_equal(Engine, Engine_pd) "
   ]
  },
  {
   "cell_type": "markdown",
   "id": "9183a1b6",
   "metadata": {},
   "source": [
    "# Unique Combinations of Plane Type and Engine\n",
    "\n",
    "Description: Identify each unique combination of aircraft type and engine configuration.\n",
    "\n",
    "Business Question: Which combinations of aircraft type and engine are in use across our fleet?"
   ]
  },
  {
   "cell_type": "code",
   "execution_count": null,
   "id": "5c265c7b-ec24-4ace-8d93-62034bc798f6",
   "metadata": {},
   "outputs": [],
   "source": [
    "Engine_type = pd.read_sql_query(\"\"\"\n",
    "    SELECT DISTINCT type, engine \n",
    "    FROM planes\n",
    "\"\"\", conn)\n",
    "Engine_type_pd = (\n",
    "    planes[['type', 'engine']].drop_duplicates().reset_index(drop=True)\n",
    ")\n",
    "pd.testing.assert_frame_equal(Engine_type, Engine_type_pd) "
   ]
  },
  {
   "cell_type": "markdown",
   "id": "7e0e6b8c",
   "metadata": {},
   "source": [
    "# Count Planes by Engine Type\n",
    "\n",
    "Description: Group planes by engine type and count how many planes fall into each category.\n",
    "\n",
    "Business Question: How many planes do we operate for each engine type?"
   ]
  },
  {
   "cell_type": "code",
   "execution_count": null,
   "id": "89e3eab7-b3f2-478c-aace-22452efc19d2",
   "metadata": {
    "scrolled": true
   },
   "outputs": [],
   "source": [
    "Plane_Engine = pd.read_sql_query(\"\"\"\n",
    "    SELECT COUNT(*), engine \n",
    "    FROM planes \n",
    "    GROUP BY engine\n",
    "\"\"\", conn)\n",
    "Plane_Engine_pd = (\n",
    "    planes.groupby('engine')\n",
    "    .size()\n",
    "    .reset_index(name='COUNT(*)')\n",
    "    [['COUNT(*)', 'engine']] \n",
    ")\n",
    "pd.testing.assert_frame_equal(Plane_Engine, Plane_Engine_pd) "
   ]
  },
  {
   "cell_type": "markdown",
   "id": "c7fec96b",
   "metadata": {},
   "source": [
    "# Count Planes by Engine and Type\n",
    "\n",
    "Description: Group planes by both engine type and aircraft type, then count the number in each group.\n",
    "\n",
    "Business Question: What is the distribution of planes when considering both engine type and aircraft type?"
   ]
  },
  {
   "cell_type": "code",
   "execution_count": null,
   "id": "8388d41e-6372-47e6-8ea9-38ead4656ebd",
   "metadata": {},
   "outputs": [],
   "source": [
    "Plane_engine_type = pd.read_sql_query(\"\"\"\n",
    "    SELECT COUNT(*), engine, type \n",
    "    FROM planes \n",
    "    GROUP BY engine, type\n",
    "\"\"\", conn)\n",
    "Plane_engine_type_pd = (\n",
    "    planes\n",
    "    .groupby(['engine', 'type'])\n",
    "    .size()\n",
    "    .reset_index(name='COUNT(*)')\n",
    "    [['COUNT(*)', 'engine', 'type']]\n",
    ")\n",
    "pd.testing.assert_frame_equal(Plane_engine_type, Plane_engine_type_pd) "
   ]
  },
  {
   "cell_type": "markdown",
   "id": "aebb11b2",
   "metadata": {},
   "source": [
    "# Plane Age Statistics by Engine and Manufacturer\n",
    "\n",
    "Description: For each engine and manufacturer combination, calculate the minimum, average, and maximum year of manufacture.\n",
    "\n",
    "Business Question: What is the age range and average age of planes by engine type and manufacturer?"
   ]
  },
  {
   "cell_type": "code",
   "execution_count": null,
   "id": "8484dd0e-b6a1-4e85-8990-2f4c3331fdb8",
   "metadata": {},
   "outputs": [],
   "source": [
    "Manufacture_year = pd.read_sql_query(\"\"\"\n",
    "    SELECT MIN(year), AVG(year), MAX(year), engine, manufacturer \n",
    "    FROM planes \n",
    "    GROUP BY engine, manufacturer\n",
    "\"\"\", conn)\n",
    "Manufacture_year_pd = (\n",
    "   planes.groupby(['engine', 'manufacturer'])  \n",
    "    .agg(min_year=('year', 'min'),             \n",
    "         avg_year=('year', 'mean'),          \n",
    "         max_year=('year', 'max'))            \n",
    "    .reset_index()                            \n",
    ")\n",
    "Manufacture_year_pd = Manufacture_year_pd.rename(columns={\n",
    "    'min_year': 'MIN(year)',\n",
    "    'avg_year': 'AVG(year)',\n",
    "    'max_year': 'MAX(year)'\n",
    "})\n",
    "\n",
    "Manufacture_year_pd = Manufacture_year_pd[['MIN(year)', 'AVG(year)', 'MAX(year)', 'engine', 'manufacturer']]\n",
    "\n",
    "Manufacture_year_pd_sorted = Manufacture_year_pd.sort_values(by=['engine', 'manufacturer']).reset_index(drop=True)\n",
    "Manufacture_year_sorted = Manufacture_year.sort_values(by=['engine', 'manufacturer']).reset_index(drop=True)\n",
    "\n",
    "pd.testing.assert_frame_equal(Manufacture_year, Manufacture_year_pd)"
   ]
  },
  {
   "cell_type": "markdown",
   "id": "d4986ccb",
   "metadata": {},
   "source": [
    "# List Planes with Known Speed\n",
    "\n",
    "Description: Filter and list all planes that have a recorded (non-null) speed value.\n",
    "\n",
    "Business Question: Which planes in our fleet have documented speed specifications?"
   ]
  },
  {
   "cell_type": "code",
   "execution_count": null,
   "id": "fe78b7da-6cd4-45f7-87f4-b05000da9367",
   "metadata": {},
   "outputs": [],
   "source": [
    "Plane_speeds= pd.read_sql_query(\"\"\"\n",
    "    SELECT * \n",
    "    FROM planes\n",
    "    WHERE speed IS NOT NULL\n",
    "\"\"\", conn)\n",
    "Plane_speeds_pd = ( planes[planes['speed'].notna()].reset_index(drop=True)\n",
    "    \n",
    ")\n",
    "pd.testing.assert_frame_equal(Plane_speeds, Plane_speeds_pd) "
   ]
  },
  {
   "cell_type": "markdown",
   "id": "f399e2af",
   "metadata": {},
   "source": [
    "# Find Recent, Medium-to-Large Planes\n",
    "\n",
    "Description: Select tail numbers of planes with 150–210 seats manufactured from 2011 onwards.\n",
    "\n",
    "Business Question: Which recent planes in our fleet are suitable for medium- to large-capacity routes?"
   ]
  },
  {
   "cell_type": "code",
   "execution_count": null,
   "id": "70b24475-e702-45f6-979c-bba269fb8447",
   "metadata": {},
   "outputs": [],
   "source": [
    "Medium_large_planes = pd.read_sql_query(\"\"\"\n",
    "    SELECT tailnum \n",
    "    FROM planes\n",
    "    WHERE seats BETWEEN 150 AND 210 AND year >= 2011\n",
    "\"\"\", conn)\n",
    "Medium_large_planes_pd = (\n",
    "    planes[(planes['seats'].between(150, 210)) & (planes['year'] >= 2011)][['tailnum']].reset_index(drop=True)\n",
    ")\n",
    "pd.testing.assert_frame_equal(Medium_large_planes, Medium_large_planes_pd) "
   ]
  },
  {
   "cell_type": "markdown",
   "id": "eb0bc349",
   "metadata": {},
   "source": [
    "# Large Planes by Major Manufacturers\n",
    "\n",
    "Description: List tail numbers, manufacturers, and seat counts for planes from Boeing, Airbus, or Embraer with more than 390 seats.\n",
    "\n",
    "Business Question: Which high-capacity planes from major manufacturers are available in the fleet?"
   ]
  },
  {
   "cell_type": "code",
   "execution_count": null,
   "id": "acfa533e-ac3e-43eb-ba36-b4ba4c6ea899",
   "metadata": {},
   "outputs": [],
   "source": [
    "Large_manufacturer = pd.read_sql_query(\"\"\"\n",
    "    SELECT tailnum, manufacturer, seats \n",
    "    FROM planes\n",
    "    WHERE manufacturer IN (\"BOEING\", \"AIRBUS\", \"EMBRAER\") AND seats>390\n",
    "\"\"\", conn)\n",
    "Large_manufacturer_pd = (\n",
    "    planes[(planes['manufacturer'].isin(['BOEING','AIRBUS','EMBRAER'])) & \n",
    "            (planes['seats']> 390)]\n",
    "    [['tailnum','manufacturer','seats']].reset_index(drop=True)\n",
    ")\n",
    "pd.testing.assert_frame_equal(Large_manufacturer, Large_manufacturer_pd) "
   ]
  },
  {
   "cell_type": "markdown",
   "id": "420d3506",
   "metadata": {},
   "source": [
    "# Unique Year/Seat Combinations (Year Ascending, Seats Descending)\n",
    "\n",
    "Description: Identify unique combinations of year and seats for planes manufactured since 2012, sorted by year (ascending) and seats (descending).\n",
    "\n",
    "Business Question: What are the unique year and seat configurations among newer planes, and how do they trend over time?"
   ]
  },
  {
   "cell_type": "code",
   "execution_count": null,
   "id": "11eab83f-b2b0-44cf-a932-9a6bf130678a",
   "metadata": {},
   "outputs": [],
   "source": [
    "YearAsc_SeatsDesc = pd.read_sql_query(\"\"\"\n",
    "    SELECT DISTINCT year, seats FROM planes\n",
    "    WHERE year >= 2012 \n",
    "    ORDER BY year ASC, seats DESC\n",
    "\"\"\", conn)\n",
    "YearAsc_SeatsDesc_pd = (\n",
    "    planes.loc[planes['year'] >= 2012, ['year', 'seats']]\n",
    "    .drop_duplicates(subset=['year', 'seats']) \n",
    "    .sort_values(by=['year', 'seats'], ascending=[True, False])\n",
    "    .reset_index(drop=True)\n",
    ")\n",
    "pd.testing.assert_frame_equal(YearAsc_SeatsDesc, YearAsc_SeatsDesc_pd)"
   ]
  },
  {
   "cell_type": "markdown",
   "id": "359a4624",
   "metadata": {},
   "source": [
    "# Count of Large Planes by Manufacturer\n",
    "\n",
    "Description: Count the number of planes with more than 200 seats, grouped by manufacturer.\n",
    "\n",
    "Business Question: Which manufacturers supply the most large-capacity planes in our fleet?"
   ]
  },
  {
   "cell_type": "code",
   "execution_count": null,
   "id": "07f956ff-f788-4c65-bab9-174956f5e2a3",
   "metadata": {},
   "outputs": [],
   "source": [
    "Seats_manufacturer = pd.read_sql_query(\"\"\"\n",
    "    SELECT manufacturer, COUNT(*) FROM planes\n",
    "    WHERE seats > 200 GROUP BY manufacturer\n",
    "\"\"\", conn)\n",
    "Seats_manufacturer_pd = (\n",
    "    planes.loc[planes['seats'] > 200]\n",
    "    .groupby('manufacturer')\n",
    "    .size()\n",
    "    .reset_index(name='COUNT(*)')\n",
    "   \n",
    ")\n",
    "pd.testing.assert_frame_equal(Seats_manufacturer, Seats_manufacturer_pd) "
   ]
  },
  {
   "cell_type": "markdown",
   "id": "f1948f7c",
   "metadata": {},
   "source": [
    "# Manufacturers with More Than 10 Planes\n",
    "\n",
    "Description: List manufacturers that have more than 10 planes in the fleet.\n",
    "\n",
    "Business Question: Which manufacturers are the most prevalent in our fleet?"
   ]
  },
  {
   "cell_type": "code",
   "execution_count": null,
   "id": "decb3289-7985-4605-b370-45fe63ab1d83",
   "metadata": {},
   "outputs": [],
   "source": [
    "Manufacturer_more_than_ten_planes  = pd.read_sql_query(\"\"\"\n",
    "    SELECT manufacturer, COUNT(*) \n",
    "    FROM planes\n",
    "    GROUP BY manufacturer HAVING COUNT(*) > 10\n",
    "\"\"\", conn)\n",
    "Manufacturer_more_than_ten_planes_pd = (\n",
    "   planes.groupby('manufacturer')             \n",
    "    .size()                                    \n",
    "    .reset_index(name='COUNT(*)')   \n",
    "    .loc[lambda df: df['COUNT(*)'] > 10]\n",
    "    .reset_index(drop=True)\n",
    "    \n",
    ")\n",
    "pd.testing.assert_frame_equal(Manufacturer_more_than_ten_planes, Manufacturer_more_than_ten_planes_pd) "
   ]
  },
  {
   "cell_type": "markdown",
   "id": "41bfc996",
   "metadata": {},
   "source": [
    "# Top 10 Manufacturers by Fleet Size\n",
    "\n",
    "Description: List the top 10 manufacturers by number of planes in the fleet.\n",
    "\n",
    "Business Question: Who are the largest contributors to our fleet by manufacturer?"
   ]
  },
  {
   "cell_type": "code",
   "execution_count": null,
   "id": "2285afd8-5aa0-4506-83e6-292cd29cbbe0",
   "metadata": {},
   "outputs": [],
   "source": [
    "Top10 = pd.read_sql_query(\"\"\"\n",
    "    SELECT manufacturer, COUNT(*) AS howmany\n",
    "    FROM planes\n",
    "    GROUP BY manufacturer\n",
    "    ORDER BY howmany DESC LIMIT 10    \n",
    "\"\"\", conn)\n",
    "Top10_pd = (\n",
    "    planes.groupby('manufacturer')         \n",
    "    .size()                              \n",
    "    .reset_index(name='howmany')          \n",
    "    .sort_values(by='howmany', ascending=False) \n",
    "    .head(10)  \n",
    "    .reset_index(drop=True)\n",
    ")\n",
    "pd.testing.assert_frame_equal(Top10, Top10_pd) "
   ]
  },
  {
   "cell_type": "markdown",
   "id": "29768a31",
   "metadata": {},
   "source": [
    "## Visualization: Top 10 Plane Manufacturers\n",
    "\n",
    "A bar chart showing the top 10 manufacturers by number of planes.\n"
   ]
  },
  {
   "cell_type": "code",
   "execution_count": null,
   "id": "82dc154c",
   "metadata": {},
   "outputs": [],
   "source": [
    "\n",
    "top10 = planes['manufacturer'].value_counts().head(10)\n",
    "top10.plot(kind='bar', title='Top 10 Plane Manufacturers')\n",
    "plt.ylabel('Number of Planes')\n",
    "plt.show()"
   ]
  },
  {
   "cell_type": "markdown",
   "id": "ded87c82",
   "metadata": {},
   "source": [
    "## Key Insights and Reflections\n",
    "\n",
    "- Demonstrated ability to translate business questions into both SQL and pandas code.\n",
    "- Validated analytical results across different technologies for reliability.\n",
    "- Utilized data visualization to communicate findings effectively.\n",
    "- Applied best practices in code structure, documentation, and result validation.\n",
    "\n",
    "**Skills Demonstrated:**\n",
    "- SQL (aggregation, filtering, joins, subqueries)\n",
    "- Pandas (groupby, filtering, merging, reshaping)\n",
    "- Data validation and testing\n",
    "- Data visualization\n",
    "- Clear communication of analytical process\n"
   ]
  },
  {
   "cell_type": "markdown",
   "id": "adf58c75",
   "metadata": {},
   "source": [
    "## Conclusion\n",
    "\n",
    "This notebook provides a comprehensive demonstration of my SQL and pandas data analysis skills, emphasizing accuracy, reproducibility, and clear communication. I am confident these skills will add value in any data-driven role.\n"
   ]
  }
 ],
 "metadata": {
  "kernelspec": {
   "display_name": "anaconda-panel-2023.05-py310",
   "language": "python",
   "name": "conda-env-anaconda-panel-2023.05-py310-py"
  },
  "language_info": {
   "codemirror_mode": {
    "name": "ipython",
    "version": 3
   },
   "file_extension": ".py",
   "mimetype": "text/x-python",
   "name": "python",
   "nbconvert_exporter": "python",
   "pygments_lexer": "ipython3",
   "version": "3.11.5"
  }
 },
 "nbformat": 4,
 "nbformat_minor": 5
}
